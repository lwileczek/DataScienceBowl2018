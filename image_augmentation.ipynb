{
 "cells": [
  {
   "cell_type": "code",
   "execution_count": 1,
   "metadata": {
    "collapsed": false
   },
   "outputs": [],
   "source": [
    "''' Hatfield 2/21/2018\n",
    "Testing out code for image augmentation\n",
    "'''\n",
    "\n",
    "import os\n",
    "import numpy as np\n",
    "import scipy.misc\n",
    "from PIL import Image\n",
    "import matplotlib.pyplot as plt\n",
    "import matplotlib.image as mpimg\n",
    "%matplotlib inline"
   ]
  },
  {
   "cell_type": "code",
   "execution_count": 2,
   "metadata": {
    "collapsed": false
   },
   "outputs": [],
   "source": [
    "#Image Load\n",
    "stage1_train = os.getcwd() + '\\\\stage1_train'\n",
    "image_names = sorted(os.listdir(stage1_train)) #list of all folder names\n",
    "image_paths = [(x, stage1_train + '\\\\' + x + '\\\\images\\\\' + x + '.png') for x in image_names]\n"
   ]
  },
  {
   "cell_type": "code",
   "execution_count": 3,
   "metadata": {
    "collapsed": false
   },
   "outputs": [
    {
     "name": "stdout",
     "output_type": "stream",
     "text": [
      "1388 1040\n"
     ]
    }
   ],
   "source": [
    "'''\n",
    "Get the maximum x and y pixel sizes\n",
    "Will use these to center the images\n",
    "'''\n",
    "width = 0\n",
    "height = 0\n",
    "for x, y in image_paths:\n",
    "    img = mpimg.imread(y)\n",
    "    if (img.shape[1] > width):\n",
    "        width = img.shape[1]\n",
    "    if (img.shape[0] > height):\n",
    "        height = img.shape[0]\n",
    "\n",
    "print (width, height)"
   ]
  },
  {
   "cell_type": "code",
   "execution_count": 4,
   "metadata": {
    "collapsed": false
   },
   "outputs": [],
   "source": [
    "'''\n",
    "Image Padding\n",
    "Creating images that are padded with black pixels to fill in for the largest x and y dimensions of the training image dataset\n",
    "'''\n",
    "for x, y in image_paths:\n",
    "    centered = np.full((height, width, 4), [0., 0., 0., 1.])\n",
    "    img = mpimg.imread(y)\n",
    "    centered[:img.shape[0], :img.shape[1]] = img\n",
    "    #save_path = y.replace('stage1_train', 'stage1_train_same_size')\n",
    "    save_path = y.replace('.png', '_same_size.png')\n",
    "    #print (save_path)\n",
    "    #if not os.path.exists(save_path):\n",
    "    #    os.makedirs(save_path)\n",
    "    scipy.misc.imsave(save_path, centered)\n",
    "    \n",
    "    "
   ]
  },
  {
   "cell_type": "code",
   "execution_count": 5,
   "metadata": {
    "collapsed": false
   },
   "outputs": [],
   "source": [
    "'''\n",
    "Image Rotation\n",
    "Will rotate all of the padded images 90, 180, 270 degrees\n",
    "'''\n",
    "\n",
    "# 1: Load in newly created padded images\n",
    "stage1_train = os.getcwd() + '\\\\stage1_train'\n",
    "image_names = sorted(os.listdir(stage1_train)) #list of all folder names\n",
    "image_paths = [(x, stage1_train + '\\\\' + x + '\\\\images\\\\' + x + '_same_size.png') for x in image_names] #[1] is the file path\n",
    "\n",
    "#testing\n",
    "'''\n",
    "img = mpimg.imread(image_paths[2][1])\n",
    "img = np.rot90(img)\n",
    "img = np.rot90(img)\n",
    "img = np.rot90(img)\n",
    "imgplot = plt.imshow(img)\n",
    "plt.show()\n",
    "'''\n",
    "\n",
    "# 2: Create and Save the 3 rotational images\n",
    "for x, y in image_paths:\n",
    "    rotated = mpimg.imread(y)\n",
    "    for i in range(3):\n",
    "        rotated = np.rot90(rotated)\n",
    "        degrees = 90 * (i + 1)\n",
    "        save_path = y.replace('.png', '_' + str(degrees) + '.png')\n",
    "        scipy.misc.imsave(save_path, rotated)"
   ]
  },
  {
   "cell_type": "code",
   "execution_count": 6,
   "metadata": {
    "collapsed": false
   },
   "outputs": [],
   "source": [
    "'''\n",
    "Image Flipping\n",
    "Will take all 4 padded-rotated images, and flip them vertically\n",
    "'''\n",
    "#A = [[1, 2],[3, 4]]\n",
    "#print (A)\n",
    "#print (np.flip(A, 0))\n",
    "\n",
    "# 1: Load in newly created padded - rotated images\n",
    "stage1_train = os.getcwd() + '\\\\stage1_train'\n",
    "image_names = sorted(os.listdir(stage1_train)) #list of all folder names\n",
    "image_paths = [stage1_train + '\\\\' + x + '\\\\images\\\\' + x + '_same_size.png' for x in image_names]\n",
    "image_paths.extend([stage1_train + '\\\\' + x + '\\\\images\\\\' + x + '_same_size_90.png' for x in image_names])\n",
    "image_paths.extend([stage1_train + '\\\\' + x + '\\\\images\\\\' + x + '_same_size_180.png' for x in image_names])\n",
    "image_paths.extend([stage1_train + '\\\\' + x + '\\\\images\\\\' + x + '_same_size_270.png' for x in image_names])\n",
    "\n",
    "# 2: Create & Save the flipped images\n",
    "for y in image_paths:\n",
    "    img = mpimg.imread(y)\n",
    "    flipped = np.flip(img, 0)\n",
    "    save_path = y.replace('.png', '_flipped.png')\n",
    "    scipy.misc.imsave(save_path, flipped)"
   ]
  },
  {
   "cell_type": "code",
   "execution_count": null,
   "metadata": {
    "collapsed": true
   },
   "outputs": [],
   "source": []
  }
 ],
 "metadata": {
  "anaconda-cloud": {},
  "kernelspec": {
   "display_name": "Python [Anaconda3]",
   "language": "python",
   "name": "Python [Anaconda3]"
  },
  "language_info": {
   "codemirror_mode": {
    "name": "ipython",
    "version": 3
   },
   "file_extension": ".py",
   "mimetype": "text/x-python",
   "name": "python",
   "nbconvert_exporter": "python",
   "pygments_lexer": "ipython3",
   "version": "3.5.2"
  }
 },
 "nbformat": 4,
 "nbformat_minor": 0
}
