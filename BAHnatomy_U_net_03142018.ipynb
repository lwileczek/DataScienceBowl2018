{
  "nbformat": 4,
  "nbformat_minor": 0,
  "metadata": {
    "colab": {
      "name": "BAHnatomy_U_net_mad_images.ipynb",
      "version": "0.3.2",
      "views": {},
      "default_view": {},
      "provenance": [
        {
          "file_id": "1kgEoYGe165xhfS9QhI0AAkoT9dLdjdZy",
          "timestamp": 1519316342825
        }
      ],
      "collapsed_sections": []
    },
    "kernelspec": {
      "name": "python3",
      "display_name": "Python 3"
    },
    "accelerator": "GPU"
  },
  "cells": [
    {
      "metadata": {
        "id": "b-yFGmeaJQq1",
        "colab_type": "code",
        "colab": {
          "autoexec": {
            "startup": false,
            "wait_interval": 0
          },
          "output_extras": [
            {
              "item_id": 1
            }
          ],
          "base_uri": "https://localhost:8080/",
          "height": 34
        },
        "outputId": "5aaecbb8-ea30-4266-d4da-5f0f06af0209",
        "executionInfo": {
          "status": "ok",
          "timestamp": 1521061106684,
          "user_tz": 240,
          "elapsed": 308,
          "user": {
            "displayName": "Sam Gottuso",
            "photoUrl": "https://lh3.googleusercontent.com/a/default-user=s128",
            "userId": "100314253426387371036"
          }
        }
      },
      "cell_type": "code",
      "source": [
        "import tensorflow as tf\n",
        "device_name = tf.test.gpu_device_name()\n",
        "if device_name != '/device:GPU:0':\n",
        "  raise SystemError('GPU device not found')\n",
        "print('Found GPU at: {}'.format(device_name))"
      ],
      "execution_count": 21,
      "outputs": [
        {
          "output_type": "stream",
          "text": [
            "Found GPU at: /device:GPU:0\n"
          ],
          "name": "stdout"
        }
      ]
    },
    {
      "metadata": {
        "id": "1byhGt1dJrMy",
        "colab_type": "text"
      },
      "cell_type": "markdown",
      "source": [
        "Simply select \"GPU\" in the Accelerator drop-down in Notebook Settings (either through the Edit menu or the command palette at cmd/ctrl-shift-P)."
      ]
    },
    {
      "metadata": {
        "id": "zqrbysi9JpHw",
        "colab_type": "code",
        "colab": {
          "autoexec": {
            "startup": false,
            "wait_interval": 0
          },
          "output_extras": [
            {
              "item_id": 10
            }
          ],
          "base_uri": "https://localhost:8080/",
          "height": 384
        },
        "outputId": "d2f6114a-1a7b-40e9-bc80-1128f8c81111",
        "executionInfo": {
          "status": "ok",
          "timestamp": 1521061202440,
          "user_tz": 240,
          "elapsed": 94291,
          "user": {
            "displayName": "Sam Gottuso",
            "photoUrl": "https://lh3.googleusercontent.com/a/default-user=s128",
            "userId": "100314253426387371036"
          }
        }
      },
      "cell_type": "code",
      "source": [
        "# Data download and unzipping- a nice kaggler rehosted data on their github. to use wget from kaggle you need authetication/cookies\n",
        "!wget https://raw.githubusercontent.com/AakashSudhakar/2018-data-science-bowl/master/compressed_files/stage1_test.zip -c\n",
        "#!wget https://raw.githubusercontent.com/AakashSudhakar/2018-data-science-bowl/master/compressed_files/stage1_train.zip -c\n",
        "!wget https://raw.githubusercontent.com/raykallen/twosnacks/master/stage1_train.zip -c\n",
        "\n",
        "!mkdir stage1_train stage1_test\n",
        "\n",
        "!unzip stage1_train.zip -d stage1_train/\n",
        "!unzip stage1_test.zip -d stage1_test/"
      ],
      "execution_count": 22,
      "outputs": [
        {
          "output_type": "stream",
          "text": [
            "--2018-03-14 20:58:28--  https://raw.githubusercontent.com/AakashSudhakar/2018-data-science-bowl/master/compressed_files/stage1_test.zip\n",
            "Resolving raw.githubusercontent.com (raw.githubusercontent.com)... 151.101.0.133, 151.101.64.133, 151.101.128.133, ...\n",
            "Connecting to raw.githubusercontent.com (raw.githubusercontent.com)|151.101.0.133|:443... connected.\n",
            "HTTP request sent, awaiting response... 416 Range Not Satisfiable\n",
            "\n",
            "    The file is already fully retrieved; nothing to do.\n",
            "\n",
            "--2018-03-14 20:58:29--  https://raw.githubusercontent.com/raykallen/twosnacks/master/stage1_train.zip\n",
            "Resolving raw.githubusercontent.com (raw.githubusercontent.com)... 151.101.0.133, 151.101.64.133, 151.101.128.133, ...\n",
            "Connecting to raw.githubusercontent.com (raw.githubusercontent.com)|151.101.0.133|:443... connected.\n",
            "HTTP request sent, awaiting response... 416 Range Not Satisfiable\n",
            "\n",
            "    The file is already fully retrieved; nothing to do.\n",
            "\n",
            "mkdir: cannot create directory ‘stage1_train’: File exists\n",
            "mkdir: cannot create directory ‘stage1_test’: File exists\n",
            "Archive:  stage1_train.zip\n",
            "replace stage1_train/stage1_train/5cc036b65f7f2d5480e2be111a561f3713ac021683a9a9138dc49492a29ce856/images/5cc036b65f7f2d5480e2be111a561f3713ac021683a9a9138dc49492a29ce856.png? [y]es, [n]o, [A]ll, [N]one, [r]ename: ^C\n",
            "Archive:  stage1_test.zip\n",
            "replace stage1_test/0114f484a16c152baa2d82fdd43740880a762c93f436c8988ac461c5c9dbe7d5/images/0114f484a16c152baa2d82fdd43740880a762c93f436c8988ac461c5c9dbe7d5.png? [y]es, [n]o, [A]ll, [N]one, [r]ename: ^C\n"
          ],
          "name": "stdout"
        }
      ]
    },
    {
      "metadata": {
        "id": "WyYWYluTiWil",
        "colab_type": "code",
        "colab": {
          "autoexec": {
            "startup": false,
            "wait_interval": 0
          }
        }
      },
      "cell_type": "code",
      "source": [
        ""
      ],
      "execution_count": 0,
      "outputs": []
    },
    {
      "metadata": {
        "id": "elsKFakeJw2r",
        "colab_type": "code",
        "colab": {
          "autoexec": {
            "startup": false,
            "wait_interval": 0
          },
          "output_extras": [
            {
              "item_id": 1
            }
          ],
          "base_uri": "https://localhost:8080/",
          "height": 104
        },
        "outputId": "43f1a9ca-7fab-40b2-bfe9-a83ee15366a5",
        "executionInfo": {
          "status": "ok",
          "timestamp": 1521061204302,
          "user_tz": 240,
          "elapsed": 1791,
          "user": {
            "displayName": "Sam Gottuso",
            "photoUrl": "https://lh3.googleusercontent.com/a/default-user=s128",
            "userId": "100314253426387371036"
          }
        }
      },
      "cell_type": "code",
      "source": [
        "# Downloading and intstalling keras\n",
        "!pip install keras"
      ],
      "execution_count": 23,
      "outputs": [
        {
          "output_type": "stream",
          "text": [
            "Requirement already satisfied: keras in /usr/local/lib/python3.6/dist-packages\r\n",
            "Requirement already satisfied: six>=1.9.0 in /usr/local/lib/python3.6/dist-packages (from keras)\r\n",
            "Requirement already satisfied: numpy>=1.9.1 in /usr/local/lib/python3.6/dist-packages (from keras)\r\n",
            "Requirement already satisfied: scipy>=0.14 in /usr/local/lib/python3.6/dist-packages (from keras)\r\n",
            "Requirement already satisfied: pyyaml in /usr/local/lib/python3.6/dist-packages (from keras)\r\n"
          ],
          "name": "stdout"
        }
      ]
    },
    {
      "metadata": {
        "id": "PYhhx-foLNhL",
        "colab_type": "code",
        "colab": {
          "autoexec": {
            "startup": false,
            "wait_interval": 0
          }
        }
      },
      "cell_type": "code",
      "source": [
        "import os\n",
        "import random\n",
        "import sys\n",
        "import warnings\n",
        "import numpy as np\n",
        "import pandas as pd\n",
        "from itertools import chain\n",
        "from skimage.io import imread, imshow, imread_collection, concatenate_images\n",
        "from skimage.transform import resize\n",
        "from skimage.morphology import label\n",
        "from keras.utils import Progbar\n",
        "\n",
        "from keras.models import Model, load_model\n",
        "from keras.layers import Input\n",
        "from keras.layers.core import Dropout, Lambda\n",
        "from keras.layers.convolutional import Conv2D, Conv2DTranspose,Convolution2D\n",
        "from keras.layers.pooling import MaxPooling2D\n",
        "from keras.layers.merge import concatenate\n",
        "from keras import backend as K\n",
        "\n",
        "from skimage.filters import threshold_otsu\n",
        "from IPython.display import display,clear_output,Image\n",
        "from skimage.color import rgb2gray\n",
        "\n",
        "import os\n",
        "import numpy as np\n",
        "import scipy.misc\n",
        "from PIL import Image\n",
        "import matplotlib.pyplot as plt\n",
        "import matplotlib.image as mpimg\n",
        "\n",
        "warnings.filterwarnings('ignore', category=UserWarning, module='skimage')\n",
        "\n",
        "# Setting seed for reproducability\n",
        "seed = 42\n",
        "random.seed = seed\n",
        "np.random.seed = seed\n",
        "smooth = 1.\n",
        "epochs = 50"
      ],
      "execution_count": 0,
      "outputs": []
    },
    {
      "metadata": {
        "id": "ZEnPv1RULSpQ",
        "colab_type": "code",
        "colab": {
          "autoexec": {
            "startup": false,
            "wait_interval": 0
          }
        }
      },
      "cell_type": "code",
      "source": [
        "# Data Path\n",
        "TRAIN_PATH = 'stage1_train/stage1_train/'\n",
        "TEST_PATH = 'stage1_test/'"
      ],
      "execution_count": 0,
      "outputs": []
    },
    {
      "metadata": {
        "id": "0MYK0JMKLW8S",
        "colab_type": "code",
        "colab": {
          "autoexec": {
            "startup": false,
            "wait_interval": 0
          }
        }
      },
      "cell_type": "code",
      "source": [
        "# Get train and test IDs\n",
        "train_ids = next(os.walk(TRAIN_PATH))[1]\n",
        "test_ids = next(os.walk(TEST_PATH))[1]"
      ],
      "execution_count": 0,
      "outputs": []
    },
    {
      "metadata": {
        "id": "E7SMxlaLIKyQ",
        "colab_type": "code",
        "colab": {
          "autoexec": {
            "startup": false,
            "wait_interval": 0
          },
          "output_extras": [
            {
              "item_id": 1
            }
          ],
          "base_uri": "https://localhost:8080/",
          "height": 166
        },
        "outputId": "23c6ae47-0901-45f0-caa6-cc33444ca4a0",
        "executionInfo": {
          "status": "error",
          "timestamp": 1521057010064,
          "user_tz": 240,
          "elapsed": 360,
          "user": {
            "displayName": "Sam Gottuso",
            "photoUrl": "https://lh3.googleusercontent.com/a/default-user=s128",
            "userId": "100314253426387371036"
          }
        }
      },
      "cell_type": "code",
      "source": [
        "train_ids.remove('__MACOSX')\n"
      ],
      "execution_count": 7,
      "outputs": [
        {
          "output_type": "error",
          "ename": "ValueError",
          "evalue": "ignored",
          "traceback": [
            "\u001b[0;31m---------------------------------------------------------------------------\u001b[0m",
            "\u001b[0;31mValueError\u001b[0m                                Traceback (most recent call last)",
            "\u001b[0;32m<ipython-input-7-5d0335a8bdee>\u001b[0m in \u001b[0;36m<module>\u001b[0;34m()\u001b[0m\n\u001b[0;32m----> 1\u001b[0;31m \u001b[0mtrain_ids\u001b[0m\u001b[0;34m.\u001b[0m\u001b[0mremove\u001b[0m\u001b[0;34m(\u001b[0m\u001b[0;34m'__MACOSX'\u001b[0m\u001b[0;34m)\u001b[0m\u001b[0;34m\u001b[0m\u001b[0m\n\u001b[0m",
            "\u001b[0;31mValueError\u001b[0m: list.remove(x): x not in list"
          ]
        }
      ]
    },
    {
      "metadata": {
        "id": "L4gRhGqzLNfp",
        "colab_type": "code",
        "colab": {
          "autoexec": {
            "startup": false,
            "wait_interval": 0
          },
          "output_extras": [
            {
              "item_id": 1
            }
          ],
          "base_uri": "https://localhost:8080/",
          "height": 34
        },
        "outputId": "c83ac655-f84d-4b20-b07b-dd9c90d6b522",
        "executionInfo": {
          "status": "ok",
          "timestamp": 1521061233662,
          "user_tz": 240,
          "elapsed": 257,
          "user": {
            "displayName": "Sam Gottuso",
            "photoUrl": "https://lh3.googleusercontent.com/a/default-user=s128",
            "userId": "100314253426387371036"
          }
        }
      },
      "cell_type": "code",
      "source": [
        "len(train_ids)"
      ],
      "execution_count": 27,
      "outputs": [
        {
          "output_type": "execute_result",
          "data": {
            "text/plain": [
              "664"
            ]
          },
          "metadata": {
            "tags": []
          },
          "execution_count": 27
        }
      ]
    },
    {
      "metadata": {
        "id": "lhVheQJYLY5K",
        "colab_type": "code",
        "colab": {
          "autoexec": {
            "startup": false,
            "wait_interval": 0
          }
        }
      },
      "cell_type": "code",
      "source": [
        "# Function read train images and mask return as nump array\n",
        "def read_train_data(IMG_WIDTH=256,IMG_HEIGHT=256,IMG_CHANNELS=3):\n",
        "    X_train = np.zeros((len(train_ids), IMG_HEIGHT, IMG_WIDTH, IMG_CHANNELS), dtype=np.uint8)\n",
        "    X_rot = np.zeros((len(train_ids), IMG_HEIGHT, IMG_WIDTH, IMG_CHANNELS), dtype=np.uint8)\n",
        "    X_rot2 = np.zeros((len(train_ids), IMG_HEIGHT, IMG_WIDTH, IMG_CHANNELS), dtype=np.uint8)\n",
        "    X_rot3 = np.zeros((len(train_ids), IMG_HEIGHT, IMG_WIDTH, IMG_CHANNELS), dtype=np.uint8)\n",
        "    X_flip = np.zeros((len(train_ids), IMG_HEIGHT, IMG_WIDTH, IMG_CHANNELS), dtype=np.uint8)\n",
        "    Y_train = np.zeros((len(train_ids), IMG_HEIGHT, IMG_WIDTH, 1), dtype=np.bool)\n",
        "    Y_rot = np.zeros((len(train_ids), IMG_HEIGHT, IMG_WIDTH, 1), dtype=np.bool)\n",
        "    Y_rot2 = np.zeros((len(train_ids), IMG_HEIGHT, IMG_WIDTH, 1), dtype=np.bool)\n",
        "    Y_rot3 = np.zeros((len(train_ids), IMG_HEIGHT, IMG_WIDTH, 1), dtype=np.bool)\n",
        "    Y_flip = np.zeros((len(train_ids), IMG_HEIGHT, IMG_WIDTH, 1), dtype=np.bool)\n",
        "    print('Getting and resizing train images and masks ... ')\n",
        "    sys.stdout.flush()\n",
        "    '''if os.path.isfile(\"train_img.npy\") and os.path.isfile(\"train_mask.npy\"):\n",
        "        print(\"Train file loaded from memory\")\n",
        "        X_train = np.load(\"train_img.npy\")\n",
        "        Y_train = np.load(\"train_mask.npy\")\n",
        "        return X_train,Y_train\n",
        "    a = Progbar(len(train_ids))'''\n",
        "    for n, id_ in enumerate(train_ids):\n",
        "        path = TRAIN_PATH + id_\n",
        "        img = imread(path + '/images/' + id_ + '.png')[:,:,:IMG_CHANNELS]\n",
        "        img = resize(img, (IMG_HEIGHT, IMG_WIDTH), mode='constant', preserve_range=True)\n",
        "\n",
        "        \n",
        "        X_train[n] = img\n",
        "        \n",
        "        mask = np.zeros((IMG_HEIGHT, IMG_WIDTH, 1), dtype=np.bool)\n",
        "        for mask_file in next(os.walk(path + '/masks/'))[2]:\n",
        "            mask_ = imread(path + '/masks/' + mask_file)\n",
        "            mask_ = np.expand_dims(resize(mask_, (IMG_HEIGHT, IMG_WIDTH), mode='constant', preserve_range=True), axis=-1)\n",
        "            mask = np.maximum(mask, mask_)\n",
        "\n",
        "\n",
        "        Y_train[n] = mask\n",
        "\n",
        "    for n, id_ in enumerate(train_ids):\n",
        "        path = TRAIN_PATH + id_\n",
        "        img = imread(path + '/images/' + id_ + '.png')[:,:,:IMG_CHANNELS]\n",
        "        img = resize(img, (IMG_HEIGHT, IMG_WIDTH), mode='constant', preserve_range=True)\n",
        "        img1 = np.rot90(img)\n",
        "        img2 = np.rot90(img1)\n",
        "        img3 = np.rot90(img2)\n",
        "        img4 = np.flip(img, 0)\n",
        "\n",
        "        X_rot[n] = img1\n",
        "        X_rot2[n] = img2\n",
        "        X_rot3[n] = img3\n",
        "        X_flip[n] = img4\n",
        "        \n",
        "        mask = np.zeros((IMG_HEIGHT, IMG_WIDTH, 1), dtype=np.bool)\n",
        "        for mask_file in next(os.walk(path + '/masks/'))[2]:\n",
        "            mask_ = imread(path + '/masks/' + mask_file)\n",
        "            mask_ = np.expand_dims(resize(mask_, (IMG_HEIGHT, IMG_WIDTH), mode='constant', preserve_range=True), axis=-1)\n",
        "            mask = np.maximum(mask, mask_)\n",
        "            img1 = np.rot90(mask)\n",
        "            img2 = np.rot90(img1)\n",
        "            img3 = np.rot90(img2)\n",
        "            img4 = np.flip(mask, 0)\n",
        "        \n",
        "\n",
        "        Y_rot[n] = img1\n",
        "        Y_rot2[n] = img2\n",
        "        Y_rot3[n] = img3\n",
        "        Y_flip[n] = img4\n",
        "    \n",
        "    Y_all = np.concatenate((Y_train, Y_rot, Y_rot2, Y_rot3, Y_flip), axis=0)    \n",
        "    X_all = np.concatenate((X_train, X_rot, X_rot2, X_rot3, X_flip), axis=0)    \n",
        "        #a.update(n)        \n",
        "        \n",
        "        \n",
        "        \n",
        "    np.save(\"train_img\",X_all)\n",
        "    np.save(\"train_mask\",Y_all)\n",
        "    return X_all,Y_all"
      ],
      "execution_count": 0,
      "outputs": []
    },
    {
      "metadata": {
        "id": "kYUM5AGZLejt",
        "colab_type": "code",
        "colab": {
          "autoexec": {
            "startup": false,
            "wait_interval": 0
          }
        }
      },
      "cell_type": "code",
      "source": [
        "# Function to read test images and return as numpy array\n",
        "def read_test_data(IMG_WIDTH=256,IMG_HEIGHT=256,IMG_CHANNELS=3):\n",
        "    X_test = np.zeros((len(test_ids), IMG_HEIGHT, IMG_WIDTH, IMG_CHANNELS), dtype=np.uint8)\n",
        "    sizes_test = []\n",
        "    print('\\nGetting and resizing test images ... ')\n",
        "    sys.stdout.flush()\n",
        "    if os.path.isfile(\"test_img.npy\") and os.path.isfile(\"test_size.npy\"):\n",
        "        print(\"Test file loaded from memory\")\n",
        "        X_test = np.load(\"test_img.npy\")\n",
        "        sizes_test = np.load(\"test_size.npy\")\n",
        "        return X_test,sizes_test\n",
        "    b = Progbar(len(test_ids))\n",
        "    for n, id_ in enumerate(test_ids):\n",
        "        path = TEST_PATH + id_\n",
        "        img = imread(path + '/images/' + id_ + '.png')[:,:,:IMG_CHANNELS]\n",
        "        sizes_test.append([img.shape[0], img.shape[1]])\n",
        "        img = resize(img, (IMG_HEIGHT, IMG_WIDTH), mode='constant', preserve_range=True)\n",
        "        \n",
        "        X_test[n] = img\n",
        "        \n",
        "        b.update(n)\n",
        "    np.save(\"test_img\",X_test)\n",
        "    np.save(\"test_size\",sizes_test)\n",
        "    return X_test,sizes_test"
      ],
      "execution_count": 0,
      "outputs": []
    },
    {
      "metadata": {
        "id": "Tiuk3voaLsRM",
        "colab_type": "code",
        "colab": {
          "autoexec": {
            "startup": false,
            "wait_interval": 0
          }
        }
      },
      "cell_type": "code",
      "source": [
        "# Run-length encoding stolen from https://www.kaggle.com/rakhlin/fast-run-length-encoding-python\n",
        "def rle_encoding(x):\n",
        "    dots = np.where(x.T.flatten() == 1)[0]\n",
        "    run_lengths = []\n",
        "    prev = -2\n",
        "    for b in dots:\n",
        "        if (b>prev+1): run_lengths.extend((b + 1, 0))\n",
        "        run_lengths[-1] += 1\n",
        "        prev = b\n",
        "    return run_lengths\n",
        "\n",
        "def prob_to_rles(x, cutoff=0.5):\n",
        "    lab_img = label(x > cutoff)\n",
        "    for i in range(1, lab_img.max() + 1):\n",
        "        yield rle_encoding(lab_img == i)"
      ],
      "execution_count": 0,
      "outputs": []
    },
    {
      "metadata": {
        "id": "SyrHGujnLvcv",
        "colab_type": "code",
        "colab": {
          "autoexec": {
            "startup": false,
            "wait_interval": 0
          }
        }
      },
      "cell_type": "code",
      "source": [
        "# Iterate over the test IDs and generate run-length encodings for each seperate mask identified by skimage\n",
        "def mask_to_rle(preds_test_upsampled):\n",
        "    new_test_ids = []\n",
        "    rles = []\n",
        "    for n, id_ in enumerate(test_ids):\n",
        "        rle = list(prob_to_rles(preds_test_upsampled[n]))\n",
        "        rles.extend(rle)\n",
        "        new_test_ids.extend([id_] * len(rle))\n",
        "    return new_test_ids,rles"
      ],
      "execution_count": 0,
      "outputs": []
    },
    {
      "metadata": {
        "id": "9uV5I0XkLy-7",
        "colab_type": "code",
        "colab": {
          "autoexec": {
            "startup": false,
            "wait_interval": 0
          }
        }
      },
      "cell_type": "code",
      "source": [
        "# Metric functions\n",
        "def dice_coef(y_true, y_pred):\n",
        "    y_true_f = K.flatten(y_true)\n",
        "    y_pred_f = K.flatten(y_pred)\n",
        "    intersection = K.sum(y_true_f * y_pred_f)\n",
        "    return (2. * intersection + smooth) / (K.sum(y_true_f) + K.sum(y_pred_f) + smooth)\n",
        "\n",
        "# Loss funtion\n",
        "def dice_coef_loss(y_true, y_pred):\n",
        "    return -dice_coef(y_true, y_pred)\n",
        "  \n",
        "# Define IoU metric\n",
        "def mean_iou(y_true, y_pred):\n",
        "    prec = []\n",
        "    for t in np.arange(0.5, 1.0, 0.05):\n",
        "        y_pred_ = tf.to_int32(y_pred > t)\n",
        "        score, up_opt = tf.metrics.mean_iou(y_true, y_pred_, 2)\n",
        "        K.get_session().run(tf.local_variables_initializer())\n",
        "        with tf.control_dependencies([up_opt]):\n",
        "            score = tf.identity(score)\n",
        "        prec.append(score)\n",
        "    return K.mean(K.stack(prec), axis=0)"
      ],
      "execution_count": 0,
      "outputs": []
    },
    {
      "metadata": {
        "id": "NHpGh6JAL3Jt",
        "colab_type": "code",
        "colab": {
          "autoexec": {
            "startup": false,
            "wait_interval": 0
          }
        }
      },
      "cell_type": "code",
      "source": [
        "def get_unet(IMG_WIDTH=256,IMG_HEIGHT=256,IMG_CHANNELS=3):\n",
        "    inputs = Input((IMG_HEIGHT, IMG_WIDTH, IMG_CHANNELS))\n",
        "    s = Lambda(lambda x: x / 255) (inputs)\n",
        "    \n",
        "    c1 = Conv2D(8, (3, 3), activation='relu', padding='same') (s)\n",
        "    c1 = Conv2D(8, (3, 3), activation='relu', padding='same') (c1)\n",
        "    p1 = MaxPooling2D((2, 2)) (c1)\n",
        "\n",
        "    c2 = Conv2D(16, (3, 3), activation='relu', padding='same') (p1)\n",
        "    c2 = Conv2D(16, (3, 3), activation='relu', padding='same') (c2)\n",
        "    p2 = MaxPooling2D((2, 2)) (c2)\n",
        "\n",
        "    c3 = Conv2D(32, (3, 3), activation='relu', padding='same') (p2)\n",
        "    c3 = Conv2D(32, (3, 3), activation='relu', padding='same') (c3)\n",
        "    p3 = MaxPooling2D((2, 2)) (c3)\n",
        "\n",
        "    c4 = Conv2D(64, (3, 3), activation='relu', padding='same') (p3)\n",
        "    c4 = Conv2D(64, (3, 3), activation='relu', padding='same') (c4)\n",
        "    p4 = MaxPooling2D(pool_size=(2, 2)) (c4)\n",
        "\n",
        "    c5 = Conv2D(128, (3, 3), activation='relu', padding='same') (p4)\n",
        "    c5 = Conv2D(128, (3, 3), activation='relu', padding='same') (c5)\n",
        "    p5 = MaxPooling2D(pool_size=(2,2)) (c5)\n",
        "    \n",
        "    c5_ = Conv2D(256, (3, 3), activation='relu', padding='same') (p5)\n",
        "    c5_ = Conv2D(256, (3, 3), activation='relu', padding='same') (c5_)\n",
        "    \n",
        "    u6_ = Conv2DTranspose(128, (2, 2), strides=(2, 2), padding='same') (c5_)\n",
        "    u6_ = concatenate([u6_, c5])\n",
        "    c6_ = Conv2D(64, (3, 3), activation='relu', padding='same') (u6_)\n",
        "    c6_ = Conv2D(64, (3, 3), activation='relu', padding='same') (c6_)\n",
        "    \n",
        "\n",
        "    u6 = Conv2DTranspose(64, (2, 2), strides=(2, 2), padding='same') (c5)\n",
        "    u6 = concatenate([u6, c4])\n",
        "    c6 = Conv2D(64, (3, 3), activation='relu', padding='same') (u6)\n",
        "    c6 = Conv2D(64, (3, 3), activation='relu', padding='same') (c6)\n",
        "\n",
        "    u7 = Conv2DTranspose(32, (2, 2), strides=(2, 2), padding='same') (c6)\n",
        "    u7 = concatenate([u7, c3])\n",
        "    c7 = Conv2D(32, (3, 3), activation='relu', padding='same') (u7)\n",
        "    c7 = Conv2D(32, (3, 3), activation='relu', padding='same') (c7)\n",
        "\n",
        "    u8 = Conv2DTranspose(16, (2, 2), strides=(2, 2), padding='same') (c7)\n",
        "    u8 = concatenate([u8, c2])\n",
        "    c8 = Conv2D(16, (3, 3), activation='relu', padding='same') (u8)\n",
        "    c8 = Conv2D(16, (3, 3), activation='relu', padding='same') (c8)\n",
        "\n",
        "    u9 = Conv2DTranspose(8, (2, 2), strides=(2, 2), padding='same') (c8)\n",
        "    u9 = concatenate([u9, c1], axis=3)\n",
        "    c9 = Conv2D(8, (3, 3), activation='relu', padding='same') (u9)\n",
        "    c9 = Conv2D(8, (3, 3), activation='relu', padding='same') (c9)\n",
        "    \n",
        "\n",
        "    outputs = Conv2D(1, (1, 1), activation='sigmoid') (c9)\n",
        "\n",
        "    model = Model(inputs=[inputs], outputs=[outputs])\n",
        "    model.compile(optimizer='adam', loss='binary_crossentropy', metrics=[mean_iou])\n",
        "    return model"
      ],
      "execution_count": 0,
      "outputs": []
    },
    {
      "metadata": {
        "id": "p23Jg-WhNXrk",
        "colab_type": "code",
        "colab": {
          "autoexec": {
            "startup": false,
            "wait_interval": 0
          },
          "output_extras": [
            {
              "item_id": 3
            }
          ],
          "base_uri": "https://localhost:8080/",
          "height": 86
        },
        "outputId": "fded3d70-a0e9-4139-f538-8ff0fba34fe2",
        "executionInfo": {
          "status": "ok",
          "timestamp": 1521061593388,
          "user_tz": 240,
          "elapsed": 325843,
          "user": {
            "displayName": "Sam Gottuso",
            "photoUrl": "https://lh3.googleusercontent.com/a/default-user=s128",
            "userId": "100314253426387371036"
          }
        }
      },
      "cell_type": "code",
      "source": [
        "# get train_data\n",
        "train_img,train_mask = read_train_data()\n",
        "\n",
        "# get test_data\n",
        "test_img,test_img_sizes = read_test_data()"
      ],
      "execution_count": 34,
      "outputs": [
        {
          "output_type": "stream",
          "text": [
            "Getting and resizing train images and masks ... \n",
            "\n",
            "Getting and resizing test images ... \n",
            "Test file loaded from memory\n"
          ],
          "name": "stdout"
        }
      ]
    },
    {
      "metadata": {
        "id": "U4a3G1Kqoiea",
        "colab_type": "code",
        "colab": {
          "autoexec": {
            "startup": false,
            "wait_interval": 0
          },
          "output_extras": [
            {
              "item_id": 1
            }
          ],
          "base_uri": "https://localhost:8080/",
          "height": 34
        },
        "outputId": "da91b3be-6f88-4b4a-863c-623c53f37257",
        "executionInfo": {
          "status": "ok",
          "timestamp": 1521061631459,
          "user_tz": 240,
          "elapsed": 345,
          "user": {
            "displayName": "Sam Gottuso",
            "photoUrl": "https://lh3.googleusercontent.com/a/default-user=s128",
            "userId": "100314253426387371036"
          }
        }
      },
      "cell_type": "code",
      "source": [
        "len(train_mask)"
      ],
      "execution_count": 35,
      "outputs": [
        {
          "output_type": "execute_result",
          "data": {
            "text/plain": [
              "3320"
            ]
          },
          "metadata": {
            "tags": []
          },
          "execution_count": 35
        }
      ]
    },
    {
      "metadata": {
        "id": "IgjW2mtiNcCz",
        "colab_type": "code",
        "colab": {
          "autoexec": {
            "startup": false,
            "wait_interval": 0
          }
        }
      },
      "cell_type": "code",
      "source": [
        "# get u_net model\n",
        "u_net = get_unet()"
      ],
      "execution_count": 0,
      "outputs": []
    },
    {
      "metadata": {
        "id": "Ve5eBt_2TEgw",
        "colab_type": "code",
        "colab": {
          "autoexec": {
            "startup": false,
            "wait_interval": 0
          }
        }
      },
      "cell_type": "code",
      "source": [
        "#Callbacks for Patience\n",
        "SG_patience=callbacks.EarlyStopping(monitor='loss', min_delta=.0001, patience=2, verbose=0, mode='auto')"
      ],
      "execution_count": 0,
      "outputs": []
    },
    {
      "metadata": {
        "id": "ACvUKZRFNlDd",
        "colab_type": "code",
        "colab": {
          "autoexec": {
            "startup": false,
            "wait_interval": 0
          },
          "output_extras": [
            {
              "item_id": 518
            },
            {
              "item_id": 1006
            },
            {
              "item_id": 1389
            },
            {
              "item_id": 1813
            },
            {
              "item_id": 2231
            },
            {
              "item_id": 2564
            },
            {
              "item_id": 2818
            },
            {
              "item_id": 3236
            },
            {
              "item_id": 3654
            },
            {
              "item_id": 4072
            },
            {
              "item_id": 4428
            },
            {
              "item_id": 4433
            },
            {
              "item_id": 4434
            }
          ],
          "base_uri": "https://localhost:8080/",
          "height": 886
        },
        "outputId": "f639f4e8-672a-486c-f5c7-411578c8db9d",
        "executionInfo": {
          "status": "ok",
          "timestamp": 1521064132009,
          "user_tz": 240,
          "elapsed": 2017739,
          "user": {
            "displayName": "Sam Gottuso",
            "photoUrl": "https://lh3.googleusercontent.com/a/default-user=s128",
            "userId": "100314253426387371036"
          }
        }
      },
      "cell_type": "code",
      "source": [
        "# fit model on train_data\n",
        "print(\"\\nTraining...\")\n",
        "u_net.fit(train_img,train_mask,batch_size=16,epochs=epochs,callbacks=[SG_patience])"
      ],
      "execution_count": 51,
      "outputs": [
        {
          "output_type": "stream",
          "text": [
            "\n",
            "Training...\n",
            "Epoch 1/50\n",
            "3320/3320 [==============================] - 87s 26ms/step - loss: 0.0851 - mean_iou: 0.7175\n",
            "Epoch 2/50\n",
            "3320/3320 [==============================] - 88s 26ms/step - loss: 0.0805 - mean_iou: 0.7483\n",
            "Epoch 3/50\n",
            "1584/3320 [=============>................] - ETA: 45s - loss: 0.0779 - mean_iou: 0.7637"
          ],
          "name": "stdout"
        },
        {
          "output_type": "stream",
          "text": [
            "3320/3320 [==============================] - 88s 26ms/step - loss: 0.0763 - mean_iou: 0.7681\n",
            "Epoch 4/50\n",
            "3320/3320 [==============================] - 88s 26ms/step - loss: 0.0721 - mean_iou: 0.7829\n",
            "Epoch 5/50\n",
            "2720/3320 [=======================>......] - ETA: 15s - loss: 0.0744 - mean_iou: 0.7929"
          ],
          "name": "stdout"
        },
        {
          "output_type": "stream",
          "text": [
            "3320/3320 [==============================] - 87s 26ms/step - loss: 0.0747 - mean_iou: 0.7937\n",
            "Epoch 6/50\n",
            "3320/3320 [==============================] - 88s 26ms/step - loss: 0.0685 - mean_iou: 0.8022\n",
            "Epoch 7/50\n",
            "3056/3320 [==========================>...] - ETA: 6s - loss: 0.0671 - mean_iou: 0.8093"
          ],
          "name": "stdout"
        },
        {
          "output_type": "stream",
          "text": [
            "3320/3320 [==============================] - 88s 26ms/step - loss: 0.0672 - mean_iou: 0.8095\n",
            "Epoch 8/50\n",
            "3320/3320 [==============================] - 88s 26ms/step - loss: 0.0650 - mean_iou: 0.8156\n",
            "Epoch 9/50\n",
            "3152/3320 [===========================>..] - ETA: 4s - loss: 0.0640 - mean_iou: 0.8207"
          ],
          "name": "stdout"
        },
        {
          "output_type": "stream",
          "text": [
            "3320/3320 [==============================] - 88s 27ms/step - loss: 0.0640 - mean_iou: 0.8209\n",
            "Epoch 10/50\n",
            "3320/3320 [==============================] - 88s 27ms/step - loss: 0.0642 - mean_iou: 0.8252\n",
            "Epoch 11/50\n",
            "3152/3320 [===========================>..] - ETA: 4s - loss: 0.0624 - mean_iou: 0.8288"
          ],
          "name": "stdout"
        },
        {
          "output_type": "stream",
          "text": [
            "3320/3320 [==============================] - 88s 26ms/step - loss: 0.0623 - mean_iou: 0.8289\n",
            "Epoch 12/50\n",
            "3320/3320 [==============================] - 88s 26ms/step - loss: 0.0666 - mean_iou: 0.8322\n",
            "Epoch 13/50\n",
            "3152/3320 [===========================>..] - ETA: 4s - loss: 0.0605 - mean_iou: 0.8349"
          ],
          "name": "stdout"
        },
        {
          "output_type": "stream",
          "text": [
            "3320/3320 [==============================] - 88s 26ms/step - loss: 0.0609 - mean_iou: 0.8350\n",
            "Epoch 14/50\n",
            "3320/3320 [==============================] - 87s 26ms/step - loss: 0.0607 - mean_iou: 0.8377\n",
            "Epoch 15/50\n",
            "3152/3320 [===========================>..] - ETA: 4s - loss: 0.0597 - mean_iou: 0.8401"
          ],
          "name": "stdout"
        },
        {
          "output_type": "stream",
          "text": [
            "3320/3320 [==============================] - 88s 26ms/step - loss: 0.0593 - mean_iou: 0.8401\n",
            "Epoch 16/50\n",
            "3320/3320 [==============================] - 87s 26ms/step - loss: 0.0590 - mean_iou: 0.8423\n",
            "Epoch 17/50\n",
            "3152/3320 [===========================>..] - ETA: 4s - loss: 0.0587 - mean_iou: 0.8443"
          ],
          "name": "stdout"
        },
        {
          "output_type": "stream",
          "text": [
            "3320/3320 [==============================] - 88s 26ms/step - loss: 0.0586 - mean_iou: 0.8443\n",
            "Epoch 18/50\n",
            "3320/3320 [==============================] - 88s 26ms/step - loss: 0.0578 - mean_iou: 0.8463\n",
            "Epoch 19/50\n",
            "3152/3320 [===========================>..] - ETA: 4s - loss: 0.0755 - mean_iou: 0.8479"
          ],
          "name": "stdout"
        },
        {
          "output_type": "stream",
          "text": [
            "3320/3320 [==============================] - 88s 26ms/step - loss: 0.0774 - mean_iou: 0.8479\n",
            "Epoch 20/50\n",
            "3320/3320 [==============================] - 88s 27ms/step - loss: 0.0710 - mean_iou: 0.8479\n",
            "Epoch 21/50\n",
            "3152/3320 [===========================>..] - ETA: 4s - loss: 0.0615 - mean_iou: 0.8490"
          ],
          "name": "stdout"
        },
        {
          "output_type": "stream",
          "text": [
            "3320/3320 [==============================] - 88s 26ms/step - loss: 0.0616 - mean_iou: 0.8491\n",
            "Epoch 22/50\n",
            "3320/3320 [==============================] - 88s 26ms/step - loss: 0.0600 - mean_iou: 0.8504\n",
            "Epoch 23/50\n",
            "3152/3320 [===========================>..] - ETA: 4s - loss: 0.0589 - mean_iou: 0.8515"
          ],
          "name": "stdout"
        },
        {
          "output_type": "stream",
          "text": [
            "3320/3320 [==============================] - 88s 26ms/step - loss: 0.0592 - mean_iou: 0.8515\n"
          ],
          "name": "stdout"
        },
        {
          "output_type": "execute_result",
          "data": {
            "text/plain": [
              "<keras.callbacks.History at 0x7f634ace6f98>"
            ]
          },
          "metadata": {
            "tags": []
          },
          "execution_count": 51
        }
      ]
    },
    {
      "metadata": {
        "id": "q9lkRIlFNopZ",
        "colab_type": "code",
        "colab": {
          "autoexec": {
            "startup": false,
            "wait_interval": 0
          },
          "output_extras": [
            {
              "item_id": 4
            }
          ],
          "base_uri": "https://localhost:8080/",
          "height": 5270
        },
        "outputId": "d1ac4dd7-afcb-460f-f4b4-483973110948",
        "executionInfo": {
          "status": "ok",
          "timestamp": 1520018866840,
          "user_tz": 300,
          "elapsed": 1650,
          "user": {
            "displayName": "Zach Bredl",
            "photoUrl": "https://lh3.googleusercontent.com/a/default-user=s128",
            "userId": "100070686972063489925"
          }
        }
      },
      "cell_type": "code",
      "source": [
        "print(\"Predicting\")\n",
        "# Predict on test data\n",
        "test_mask = u_net.predict(test_img,verbose=1)\n",
        "print(test_mask)"
      ],
      "execution_count": 35,
      "outputs": [
        {
          "output_type": "stream",
          "text": [
            "Predicting\n",
            "65/65 [==============================] - 1s 19ms/step\n",
            "[[[[9.38344654e-03]\n",
            "   [2.89355288e-04]\n",
            "   [7.42524790e-05]\n",
            "   ...\n",
            "   [1.21620025e-04]\n",
            "   [7.72032145e-05]\n",
            "   [7.29029998e-04]]\n",
            "\n",
            "  [[1.36758550e-04]\n",
            "   [1.28072395e-06]\n",
            "   [2.63106841e-07]\n",
            "   ...\n",
            "   [7.84409110e-07]\n",
            "   [1.80867630e-07]\n",
            "   [1.07561364e-05]]\n",
            "\n",
            "  [[3.60798804e-05]\n",
            "   [1.70375259e-07]\n",
            "   [3.04862482e-08]\n",
            "   ...\n",
            "   [8.66462528e-07]\n",
            "   [1.17913906e-07]\n",
            "   [3.03854631e-06]]\n",
            "\n",
            "  ...\n",
            "\n",
            "  [[3.88836592e-01]\n",
            "   [4.19455141e-01]\n",
            "   [1.52286991e-01]\n",
            "   ...\n",
            "   [1.03854882e-06]\n",
            "   [2.75052344e-07]\n",
            "   [1.20143332e-05]]\n",
            "\n",
            "  [[2.47187898e-01]\n",
            "   [1.55417204e-01]\n",
            "   [4.06072177e-02]\n",
            "   ...\n",
            "   [1.20006814e-06]\n",
            "   [5.02530156e-07]\n",
            "   [1.96168530e-05]]\n",
            "\n",
            "  [[2.00762644e-01]\n",
            "   [8.79957750e-02]\n",
            "   [3.18726599e-02]\n",
            "   ...\n",
            "   [1.19449156e-04]\n",
            "   [7.66451340e-05]\n",
            "   [1.01901055e-03]]]\n",
            "\n",
            "\n",
            " [[[3.70975733e-02]\n",
            "   [4.78941528e-03]\n",
            "   [4.85911220e-03]\n",
            "   ...\n",
            "   [1.22671670e-04]\n",
            "   [1.61779812e-04]\n",
            "   [1.80882530e-03]]\n",
            "\n",
            "  [[2.28828983e-03]\n",
            "   [2.44465773e-04]\n",
            "   [3.36290395e-04]\n",
            "   ...\n",
            "   [1.13743431e-06]\n",
            "   [1.06618882e-06]\n",
            "   [6.81377423e-05]]\n",
            "\n",
            "  [[1.12061796e-03]\n",
            "   [1.63073011e-04]\n",
            "   [2.43144270e-04]\n",
            "   ...\n",
            "   [1.79838685e-06]\n",
            "   [1.62913409e-06]\n",
            "   [3.83642400e-05]]\n",
            "\n",
            "  ...\n",
            "\n",
            "  [[1.22055865e-03]\n",
            "   [8.79096406e-05]\n",
            "   [8.45050745e-05]\n",
            "   ...\n",
            "   [8.30769204e-06]\n",
            "   [9.33301089e-06]\n",
            "   [1.06158644e-04]]\n",
            "\n",
            "  [[1.25063641e-03]\n",
            "   [2.89517211e-05]\n",
            "   [3.72924296e-05]\n",
            "   ...\n",
            "   [1.59428382e-05]\n",
            "   [1.72351392e-05]\n",
            "   [1.45165221e-04]]\n",
            "\n",
            "  [[6.41553057e-03]\n",
            "   [9.03621549e-04]\n",
            "   [1.29092066e-03]\n",
            "   ...\n",
            "   [5.39664296e-04]\n",
            "   [5.71295270e-04]\n",
            "   [3.18392855e-03]]]\n",
            "\n",
            "\n",
            " [[[6.85613649e-03]\n",
            "   [1.80306481e-04]\n",
            "   [6.53918905e-05]\n",
            "   ...\n",
            "   [9.71662594e-05]\n",
            "   [6.91826353e-05]\n",
            "   [6.79044810e-04]]\n",
            "\n",
            "  [[8.19594934e-05]\n",
            "   [9.92968353e-07]\n",
            "   [3.85479353e-07]\n",
            "   ...\n",
            "   [9.86623149e-07]\n",
            "   [2.11995584e-07]\n",
            "   [1.21100275e-05]]\n",
            "\n",
            "  [[3.01338314e-05]\n",
            "   [2.49281612e-07]\n",
            "   [1.49716186e-07]\n",
            "   ...\n",
            "   [1.96403835e-06]\n",
            "   [2.84889779e-07]\n",
            "   [5.28478267e-06]]\n",
            "\n",
            "  ...\n",
            "\n",
            "  [[1.01300050e-03]\n",
            "   [6.59618818e-05]\n",
            "   [3.35120276e-05]\n",
            "   ...\n",
            "   [1.17988304e-06]\n",
            "   [5.09569361e-07]\n",
            "   [1.93383839e-05]]\n",
            "\n",
            "  [[1.89196644e-03]\n",
            "   [4.37826966e-05]\n",
            "   [2.13518942e-05]\n",
            "   ...\n",
            "   [1.18808839e-06]\n",
            "   [5.49511753e-07]\n",
            "   [1.98752296e-05]]\n",
            "\n",
            "  [[9.87542514e-03]\n",
            "   [1.37746555e-03]\n",
            "   [6.96631148e-04]\n",
            "   ...\n",
            "   [1.14576746e-04]\n",
            "   [7.71455889e-05]\n",
            "   [9.53590323e-04]]]\n",
            "\n",
            "\n",
            " ...\n",
            "\n",
            "\n",
            " [[[2.29537468e-02]\n",
            "   [1.00132835e-03]\n",
            "   [3.96681280e-04]\n",
            "   ...\n",
            "   [1.45506405e-04]\n",
            "   [1.89201659e-04]\n",
            "   [1.93910638e-03]]\n",
            "\n",
            "  [[5.52376267e-04]\n",
            "   [1.22439915e-05]\n",
            "   [5.58439069e-06]\n",
            "   ...\n",
            "   [1.79539836e-06]\n",
            "   [1.20282368e-06]\n",
            "   [6.12323201e-05]]\n",
            "\n",
            "  [[2.40722031e-04]\n",
            "   [4.54100928e-06]\n",
            "   [3.16599471e-06]\n",
            "   ...\n",
            "   [4.80988319e-06]\n",
            "   [1.40238615e-06]\n",
            "   [2.39040783e-05]]\n",
            "\n",
            "  ...\n",
            "\n",
            "  [[4.84642296e-05]\n",
            "   [3.19055346e-07]\n",
            "   [1.44301083e-07]\n",
            "   ...\n",
            "   [1.80928218e-05]\n",
            "   [4.36815608e-05]\n",
            "   [5.44593902e-04]]\n",
            "\n",
            "  [[1.35008348e-04]\n",
            "   [3.41946986e-07]\n",
            "   [6.92195172e-08]\n",
            "   ...\n",
            "   [2.36268334e-05]\n",
            "   [4.31478147e-05]\n",
            "   [5.07382618e-04]]\n",
            "\n",
            "  [[1.22116681e-03]\n",
            "   [2.89670752e-05]\n",
            "   [7.26212056e-06]\n",
            "   ...\n",
            "   [5.04637719e-04]\n",
            "   [7.77177105e-04]\n",
            "   [6.98683318e-03]]]\n",
            "\n",
            "\n",
            " [[[1.74490616e-01]\n",
            "   [2.09102467e-01]\n",
            "   [3.91846240e-01]\n",
            "   ...\n",
            "   [5.03809787e-02]\n",
            "   [1.10046916e-01]\n",
            "   [2.03119859e-01]]\n",
            "\n",
            "  [[5.22095598e-02]\n",
            "   [6.51216507e-02]\n",
            "   [9.19845402e-02]\n",
            "   ...\n",
            "   [1.66199654e-01]\n",
            "   [3.09180170e-01]\n",
            "   [2.70938158e-01]]\n",
            "\n",
            "  [[1.98195484e-02]\n",
            "   [8.56276974e-03]\n",
            "   [5.27351629e-03]\n",
            "   ...\n",
            "   [8.45264852e-01]\n",
            "   [8.32992136e-01]\n",
            "   [5.77322483e-01]]\n",
            "\n",
            "  ...\n",
            "\n",
            "  [[1.75921485e-01]\n",
            "   [4.48520213e-01]\n",
            "   [4.82531637e-01]\n",
            "   ...\n",
            "   [3.43393028e-01]\n",
            "   [5.97583294e-01]\n",
            "   [5.87705433e-01]]\n",
            "\n",
            "  [[4.10252005e-01]\n",
            "   [7.72713721e-01]\n",
            "   [7.98631370e-01]\n",
            "   ...\n",
            "   [2.67702162e-01]\n",
            "   [3.38732481e-01]\n",
            "   [3.37784141e-01]]\n",
            "\n",
            "  [[6.25214517e-01]\n",
            "   [7.83580542e-01]\n",
            "   [7.87872314e-01]\n",
            "   ...\n",
            "   [3.37673277e-01]\n",
            "   [3.73892695e-01]\n",
            "   [3.77262205e-01]]]\n",
            "\n",
            "\n",
            " [[[6.79910555e-03]\n",
            "   [1.91050931e-04]\n",
            "   [5.52278798e-05]\n",
            "   ...\n",
            "   [6.85018599e-01]\n",
            "   [5.22397876e-01]\n",
            "   [3.79336506e-01]]\n",
            "\n",
            "  [[1.00478414e-04]\n",
            "   [1.29684179e-06]\n",
            "   [3.24516719e-07]\n",
            "   ...\n",
            "   [8.39247763e-01]\n",
            "   [6.35594130e-01]\n",
            "   [4.61931616e-01]]\n",
            "\n",
            "  [[3.58704310e-05]\n",
            "   [3.03490992e-07]\n",
            "   [8.77428334e-08]\n",
            "   ...\n",
            "   [9.74027812e-01]\n",
            "   [8.98374736e-01]\n",
            "   [7.71878421e-01]]\n",
            "\n",
            "  ...\n",
            "\n",
            "  [[4.21827717e-04]\n",
            "   [1.61984080e-05]\n",
            "   [5.38402128e-06]\n",
            "   ...\n",
            "   [1.22426670e-07]\n",
            "   [6.65367850e-08]\n",
            "   [4.30727505e-06]]\n",
            "\n",
            "  [[6.60606776e-04]\n",
            "   [5.07325603e-06]\n",
            "   [1.31672539e-06]\n",
            "   ...\n",
            "   [2.49086042e-07]\n",
            "   [1.33092414e-07]\n",
            "   [6.67583618e-06]]\n",
            "\n",
            "  [[3.80826765e-03]\n",
            "   [2.43681759e-04]\n",
            "   [8.05098462e-05]\n",
            "   ...\n",
            "   [3.72616450e-05]\n",
            "   [2.77336585e-05]\n",
            "   [4.73794236e-04]]]]\n"
          ],
          "name": "stdout"
        }
      ]
    },
    {
      "metadata": {
        "id": "AJsmvL8INrod",
        "colab_type": "code",
        "colab": {
          "autoexec": {
            "startup": false,
            "wait_interval": 0
          }
        }
      },
      "cell_type": "code",
      "source": [
        "# Create list of upsampled test masks\n",
        "test_mask_upsampled = []\n",
        "for i in range(len(test_mask)):\n",
        "    test_mask_upsampled.append(resize(np.squeeze(test_mask[i]),\n",
        "                                       (test_img_sizes[i][0],test_img_sizes[i][1]), \n",
        "                                       mode='constant', preserve_range=True))\n",
        "    \n"
      ],
      "execution_count": 0,
      "outputs": []
    },
    {
      "metadata": {
        "id": "uAoUyhXVN1Fp",
        "colab_type": "code",
        "colab": {
          "autoexec": {
            "startup": false,
            "wait_interval": 0
          }
        }
      },
      "cell_type": "code",
      "source": [
        "test_ids, rles = mask_to_rle(test_mask_upsampled)"
      ],
      "execution_count": 0,
      "outputs": []
    },
    {
      "metadata": {
        "id": "HsSyH1p4N2OI",
        "colab_type": "code",
        "colab": {
          "autoexec": {
            "startup": false,
            "wait_interval": 0
          }
        }
      },
      "cell_type": "code",
      "source": [
        "# Create submission DataFrame\n",
        "sub = pd.DataFrame()\n",
        "sub['ImageId'] = test_ids\n",
        "sub['EncodedPixels'] = pd.Series(rles).apply(lambda x: ' '.join(str(y) for y in x))\n",
        "\n",
        "sub.to_csv('submission-u-net.csv', index=False)"
      ],
      "execution_count": 0,
      "outputs": []
    },
    {
      "metadata": {
        "id": "yNAWsHjFOCwc",
        "colab_type": "code",
        "colab": {
          "autoexec": {
            "startup": false,
            "wait_interval": 0
          }
        }
      },
      "cell_type": "code",
      "source": [
        "# Code to download files from Google colab\n",
        "\n",
        "from google.colab import files\n",
        "\n",
        "files.download('submission-u-net.csv')"
      ],
      "execution_count": 0,
      "outputs": []
    },
    {
      "metadata": {
        "id": "f7FDmiqhTwWR",
        "colab_type": "code",
        "colab": {
          "autoexec": {
            "startup": false,
            "wait_interval": 0
          }
        }
      },
      "cell_type": "code",
      "source": [
        ""
      ],
      "execution_count": 0,
      "outputs": []
    }
  ]
}